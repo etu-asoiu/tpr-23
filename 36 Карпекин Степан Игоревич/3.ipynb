{
 "cells": [
  {
   "attachments": {},
   "cell_type": "markdown",
   "metadata": {},
   "source": [
    "# Практическое задание по дисциплине\n",
    "# «Теория принятия решений»\n",
    "# Вариант 36 (433)\n",
    "\n",
    "## Выполнил: Карпекин Степан Игоревич (0372)\n"
   ]
  },
  {
   "cell_type": "code",
   "execution_count": 2,
   "metadata": {
    "ExecuteTime": {
     "end_time": "2023-05-15T10:41:15.039202900Z",
     "start_time": "2023-05-15T10:41:11.984058200Z"
    }
   },
   "outputs": [
    {
     "name": "stdout",
     "output_type": "stream",
     "text": [
      "Requirement already satisfied: pulp in c:\\python311\\lib\\site-packages (2.7.0)\n",
      "Requirement already satisfied: scipy in c:\\python311\\lib\\site-packages (1.10.1)\n",
      "Requirement already satisfied: matplotlib in c:\\python311\\lib\\site-packages (3.7.1)\n",
      "Requirement already satisfied: numpy<1.27.0,>=1.19.5 in c:\\python311\\lib\\site-packages (from scipy) (1.24.2)\n",
      "Requirement already satisfied: contourpy>=1.0.1 in c:\\python311\\lib\\site-packages (from matplotlib) (1.0.7)\n",
      "Requirement already satisfied: cycler>=0.10 in c:\\python311\\lib\\site-packages (from matplotlib) (0.11.0)\n",
      "Requirement already satisfied: fonttools>=4.22.0 in c:\\python311\\lib\\site-packages (from matplotlib) (4.38.0)\n",
      "Requirement already satisfied: kiwisolver>=1.0.1 in c:\\python311\\lib\\site-packages (from matplotlib) (1.4.4)\n",
      "Requirement already satisfied: packaging>=20.0 in c:\\python311\\lib\\site-packages (from matplotlib) (21.3)\n",
      "Requirement already satisfied: pillow>=6.2.0 in c:\\python311\\lib\\site-packages (from matplotlib) (9.5.0)\n",
      "Requirement already satisfied: pyparsing>=2.3.1 in c:\\python311\\lib\\site-packages (from matplotlib) (3.0.9)\n",
      "Requirement already satisfied: python-dateutil>=2.7 in c:\\python311\\lib\\site-packages (from matplotlib) (2.8.2)\n",
      "Requirement already satisfied: six>=1.5 in c:\\python311\\lib\\site-packages (from python-dateutil>=2.7->matplotlib) (1.16.0)\n",
      "Note: you may need to restart the kernel to use updated packages.\n"
     ]
    },
    {
     "name": "stderr",
     "output_type": "stream",
     "text": [
      "\n",
      "[notice] A new release of pip is available: 23.0.1 -> 23.1.2\n",
      "[notice] To update, run: python.exe -m pip install --upgrade pip\n"
     ]
    }
   ],
   "source": [
    "pip install pulp scipy matplotlib"
   ]
  },
  {
   "attachments": {},
   "cell_type": "markdown",
   "metadata": {},
   "source": [
    "## Задача 1\n",
    "\n",
    "На предприятии вкладываются средства в развитие двух цехов. Функции дохода от вложенных\n",
    "средств для 1-го и 2-го цехов различны и представлены следующими зависимостями:\n",
    "\n",
    "- для 1-го цеха $y = 90+1.4x^{3/4}$;\n",
    "- для 2-го цеха $y = 110+0.7x^{3/4}$.\n",
    "\n",
    "где $y$ - доход за один квартал (млн. руб); $x$ - количество средств, вложенных за один квартал.\n",
    "\n",
    "Функции остатка средств за один квартал равны:\n",
    "\n",
    "- для 1-го цеха $0.84x$;\n",
    "- для 2-го цеха $0.63x$.\n",
    "\n",
    "Количество средств, выделяемых на развитие обоих цехов в течение года, составляет 140\n",
    "единиц. Средства перераспределяются поквартально и не резервируются. \n",
    "\n",
    "Требуется оптимально распределить между двумя цехами средства на планируемый год."
   ]
  },
  {
   "cell_type": "code",
   "execution_count": 1,
   "metadata": {
    "ExecuteTime": {
     "end_time": "2023-05-15T10:40:40.349894700Z",
     "start_time": "2023-05-15T10:40:39.972612600Z"
    }
   },
   "outputs": [
    {
     "name": "stdout",
     "output_type": "stream",
     "text": [
      "Оптимальное количество средств, вложенных в 1-й цех: 107.99 млн. руб\n",
      "Оптимальное количество средств, вложенных в 2-й цех: 32.01 млн. руб\n"
     ]
    }
   ],
   "source": [
    "from scipy.optimize import minimize_scalar\n",
    "\n",
    "def profit1(x):\n",
    "    return 90 + 1.4 * x ** (3/4)\n",
    "\n",
    "def profit2(x):\n",
    "    return 110 + 0.7 * x ** (3/4)\n",
    "\n",
    "def residual1(x):\n",
    "    return 0.84 * x\n",
    "\n",
    "def residual2(x):\n",
    "    return 0.63 * x\n",
    "\n",
    "def objective(x):\n",
    "    return -(4 * profit1(x) + 4 * profit2(140 - x) - 2 * residual1(x) - 2 * residual2(140 - x))\n",
    "\n",
    "result = minimize_scalar(objective, bounds=(0, 140), method='bounded')\n",
    "print(f'Оптимальное количество средств, вложенных в 1-й цех: {result.x:.2f} млн. руб')\n",
    "print(f'Оптимальное количество средств, вложенных в 2-й цех: {140 - result.x:.2f} млн. руб')"
   ]
  },
  {
   "attachments": {},
   "cell_type": "markdown",
   "metadata": {},
   "source": [
    "## Задача 2\n",
    "\n",
    "Часть прибыли, получаемой от работы 1-го и 2-го цехов в течение одного года, планируется использовать для приобретения оборудования для нового третьего цеха. Доля средств, отчисляемая ежеквартально из прибыли от работы 1-го и 2-го цехов на приобретение оборудования\n",
    "для 3-го цеха, составляет 65 %. Оборудование нового цеха предполагается разместить на площади 260 кв.м. Возможно приобретение пяти видов однородного оборудования, характеристики\n",
    "которого представлены в таблице 1.\n",
    "\n",
    "Таблица 1: Характеристики оборудования\n",
    "\n",
    "| Вид оборудования | Стоимость (млн.руб) | Требуемая площадь (кв.м) | Производительность (шт.) |\n",
    "| --- | --- | --- | --- |\n",
    "| Тип_1 | 39 | 18 | 800 |\n",
    "| Тип_2 | 27 | 31 | 400 |\n",
    "| Тип_3 | 53 | 11 | 1200 |\n",
    "| Тип_4 | 34 | 27 | 900 |\n",
    "| Тип_5 | 57 | 22 | 1800 |\n",
    "\n",
    "Необходимо обеспечить максимальную производительность цеха и провести исследование полученного решения.\n",
    "\n",
    "1. Имея в виду необходимость получения ЦЕЛОЧИСЛЕННОГО решения, найти оптимальный план приобретения оборудования для третьего цеха.\n",
    "2. Исследовать полученное решение на чувствительность к изменению стоимостного ограничения, связанному с возможным изменением соотношения цен и средств:\n",
    "   - выяснить влияние изменения (увеличения, уменьшения) количества средств на переход роли активного ограничения (либо по площади, либо по стоимости), и вследствие этого — на выбор оптимального типа оборудования;\n",
    "   - выяснить границы изменения количества средств, в пределах которых оптимальным является выбор 2-х и более типов оборудования.\n"
   ]
  },
  {
   "attachments": {},
   "cell_type": "markdown",
   "metadata": {},
   "source": [
    "`Для упрощения решения задачи, мы можем оценить максимальную стоимость оборудования для третьего цеха как 65% от производительности первого и второго цехов, поскольку производительность напрямую связана с прибылью.`"
   ]
  },
  {
   "cell_type": "code",
   "execution_count": 41,
   "metadata": {},
   "outputs": [
    {
     "name": "stdout",
     "output_type": "stream",
     "text": [
      "Оптимальное решение:\n",
      "Бюджет:  325.0\n",
      "Тип1 = 0.0\n",
      "Тип2 = 0.0\n",
      "Тип3 = 0.0\n",
      "Тип4 = 1.0\n",
      "Тип5 = 5.0\n",
      "Максимальная производительность = 9900.0\n"
     ]
    }
   ],
   "source": [
    "\n",
    "\n",
    "from pulp import *\n",
    "\n",
    "# Создаем переменную проблемы для максимизации производительности\n",
    "model = LpProblem(name=\"equipment\", sense=LpMaximize)\n",
    "\n",
    "# Определим переменные\n",
    "x1 = LpVariable(name=\"Тип1\", lowBound=0, cat='Integer')\n",
    "x2 = LpVariable(name=\"Тип2\", lowBound=0, cat='Integer')\n",
    "x3 = LpVariable(name=\"Тип3\", lowBound=0, cat='Integer')\n",
    "x4 = LpVariable(name=\"Тип4\", lowBound=0, cat='Integer')\n",
    "x5 = LpVariable(name=\"Тип5\", lowBound=0, cat='Integer')\n",
    "\n",
    "# Определим целевую функцию\n",
    "model += 800*x1 + 400*x2 + 1200*x3 + 900*x4 + 1800*x5, \"Total productivity\"\n",
    "\n",
    "budjet = 0.65 * 500\n",
    "\n",
    "# Определим ограничения на бюджет и площадь\n",
    "model += 39*x1 + 27*x2 + 53*x3 + 34*x4 + 57*x5 <= budjet, \"Budget constraint\"\n",
    "model += 18*x1 + 31*x2 + 11*x3 + 27*x4 + 22*x5 <= 260, \"Area constraint\"\n",
    "\n",
    "# Решим задачу\n",
    "status = model.solve()\n",
    "\n",
    "xs = [x1, x2, x3, x4, x5]\n",
    "\n",
    "# Выводим оптимальное решение\n",
    "print(\"Оптимальное решение:\")\n",
    "print(\"Бюджет: \", budjet)\n",
    "for x in xs:\n",
    "    print(x.name, \"=\", x.varValue)\n",
    "\n",
    "# Выводим значение целевой функции\n",
    "print(\"Максимальная производительность =\", value(model.objective))"
   ]
  },
  {
   "attachments": {},
   "cell_type": "markdown",
   "metadata": {},
   "source": [
    "`Исследование чувствительности к изменению стоимостного ограничения:`"
   ]
  },
  {
   "cell_type": "code",
   "execution_count": 77,
   "metadata": {},
   "outputs": [
    {
     "name": "stdout",
     "output_type": "stream",
     "text": [
      "Бюджет (млн. руб) Производительность   Тип 1   Тип 2   Тип 3   Тип 4  Тип 5\n",
      "            400 |        12600.00 |     0 |     0 |     0 |     0 |     7\n",
      "            420 |        12600.00 |     0 |     0 |     0 |     0 |     7\n",
      "            440 |        13500.00 |     0 |     0 |     0 |     1 |     7\n",
      "            460 |        14400.00 |     0 |     0 |     0 |     0 |     8\n",
      "            480 |        14400.00 |     0 |     0 |     0 |     0 |     8\n",
      "            500 |        15300.00 |     0 |     0 |     0 |     1 |     8\n",
      "            520 |        16200.00 |     0 |     0 |     0 |     0 |     9\n",
      "            540 |        16600.00 |     0 |     1 |     0 |     0 |     9\n",
      "            560 |        17100.00 |     0 |     0 |     0 |     1 |     9\n",
      "            580 |        18000.00 |     0 |     0 |     0 |     0 |    10\n",
      "            600 |        18400.00 |     0 |     1 |     0 |     0 |    10\n",
      "            620 |        18900.00 |     0 |     0 |     0 |     1 |    10\n",
      "            640 |        19800.00 |     0 |     0 |     0 |     0 |    11\n",
      "            660 |        20100.00 |     0 |     0 |     1 |     1 |    10\n",
      "            680 |        21000.00 |     0 |     0 |     1 |     0 |    11\n",
      "            700 |        21000.00 |     0 |     0 |     1 |     0 |    11\n",
      "            720 |        21200.00 |     1 |     0 |     2 |     0 |    10\n",
      "            740 |        21600.00 |     0 |     0 |     3 |     0 |    10\n",
      "            760 |        21600.00 |     0 |     0 |     3 |     0 |    10\n",
      "            780 |        22200.00 |     0 |     0 |     5 |     0 |     9\n",
      "            800 |        22200.00 |     0 |     0 |     5 |     0 |     9\n",
      "            820 |        22400.00 |     1 |     0 |     6 |     0 |     8\n",
      "            840 |        22800.00 |     0 |     0 |     7 |     0 |     8\n",
      "            860 |        22800.00 |     0 |     0 |     7 |     0 |     8\n",
      "            880 |        23400.00 |     0 |     0 |     9 |     0 |     7\n",
      "            900 |        23400.00 |     0 |     0 |     9 |     0 |     7\n",
      "            920 |        23600.00 |     1 |     0 |    10 |     0 |     6\n",
      "            940 |        24000.00 |     0 |     0 |    11 |     0 |     6\n",
      "            960 |        24200.00 |     1 |     0 |    12 |     0 |     5\n",
      "            980 |        24600.00 |     0 |     0 |    13 |     0 |     5\n",
      "           1000 |        24600.00 |     0 |     0 |    13 |     0 |     5\n",
      "           1020 |        24800.00 |     1 |     0 |    14 |     0 |     4\n",
      "           1040 |        25200.00 |     0 |     0 |    15 |     0 |     4\n",
      "           1060 |        25400.00 |     1 |     0 |    16 |     0 |     3\n",
      "           1080 |        25800.00 |     0 |     0 |    17 |     0 |     3\n",
      "           1100 |        25800.00 |     0 |     0 |    17 |     0 |     3\n",
      "           1120 |        26000.00 |     1 |     0 |    18 |     0 |     2\n",
      "           1140 |        26400.00 |     0 |     0 |    19 |     0 |     2\n",
      "           1160 |        26600.00 |     1 |     0 |    20 |     0 |     1\n",
      "           1180 |        27000.00 |     0 |     0 |    21 |     0 |     1\n",
      "           1200 |        27000.00 |     0 |     0 |    21 |     0 |     1\n",
      "           1220 |        27600.00 |     0 |     0 |    23 |     0 |     0\n",
      "           1240 |        27600.00 |     0 |     0 |    23 |     0 |     0\n",
      "           1260 |        27600.00 |     0 |     0 |    23 |     0 |     0\n",
      "           1280 |        27600.00 |     0 |     0 |    23 |     0 |     0\n",
      "           1300 |        27600.00 |     0 |     0 |    23 |     0 |     0\n",
      "           1320 |        27600.00 |     0 |     0 |    23 |     0 |     0\n",
      "           1340 |        27600.00 |     0 |     0 |    23 |     0 |     0\n",
      "           1360 |        27600.00 |     0 |     0 |    23 |     0 |     0\n",
      "           1380 |        27600.00 |     0 |     0 |    23 |     0 |     0\n",
      "           1400 |        27600.00 |     0 |     0 |    23 |     0 |     0\n",
      "           1420 |        27600.00 |     0 |     0 |    23 |     0 |     0\n",
      "           1440 |        27600.00 |     0 |     0 |    23 |     0 |     0\n",
      "           1460 |        27600.00 |     0 |     0 |    23 |     0 |     0\n",
      "           1480 |        27600.00 |     0 |     0 |    23 |     0 |     0\n",
      "           1500 |        27600.00 |     0 |     0 |    23 |     0 |     0\n"
     ]
    },
    {
     "data": {
      "image/png": "[encoded data removed]",
      "text/plain": [
       "<Figure size 640x480 with 1 Axes>"
      ]
     },
     "metadata": {},
     "output_type": "display_data"
    }
   ],
   "source": [
    "import matplotlib.pyplot as plt\n",
    "\n",
    "# Определим список бюджетов для анализа чувствительности\n",
    "budgets = range(400, 1501, 20)\n",
    "\n",
    "# Создадим пустой список для хранения результатов\n",
    "results = []\n",
    "\n",
    "for budget in budgets:\n",
    "    # Создадим новую задачу\n",
    "    model = LpProblem(name=\"equipment\", sense=LpMaximize)\n",
    "\n",
    "    # Определим переменные\n",
    "    x1 = LpVariable(name=\"x1\", lowBound=0, cat='Integer')\n",
    "    x2 = LpVariable(name=\"x2\", lowBound=0, cat='Integer')\n",
    "    x3 = LpVariable(name=\"x3\", lowBound=0, cat='Integer')\n",
    "    x4 = LpVariable(name=\"x4\", lowBound=0, cat='Integer')\n",
    "    x5 = LpVariable(name=\"x5\", lowBound=0, cat='Integer')\n",
    "\n",
    "    # Определим целевую функцию\n",
    "    model += 800*x1 + 400*x2 + 1200*x3 + 900*x4 + 1800*x5, \"Total productivity\"\n",
    "\n",
    "    # Определим ограничения на бюджет и площадь\n",
    "    model += 39*x1 + 27*x2 + 53*x3 + 34*x4 + 57*x5 <= budget, \"Budget constraint\"\n",
    "    model += 18*x1 + 31*x2 + 11*x3 + 27*x4 + 22*x5 <= 260, \"Area constraint\"\n",
    "\n",
    "    # Решим задачу\n",
    "    status = model.solve()\n",
    "\n",
    "    # Сохраняем результаты\n",
    "    result = [budget, value(model.objective)]\n",
    "    for v in model.variables():\n",
    "        result.append(v.varValue)\n",
    "    results.append(result)\n",
    "\n",
    "\n",
    "# Выводим результаты\n",
    "print(\"{:15s} {:>15s} {:>7s} {:>7s} {:>7s} {:>7s} {:>6s}\".format(\n",
    "    \"Бюджет (млн. руб)\", \"Производительность\", \"Тип 1\", \"Тип 2\", \"Тип 3\", \"Тип 4\", \"Тип 5\"\n",
    "))\n",
    "\n",
    "graph_budjets = []\n",
    "graph_types_sum = []\n",
    "\n",
    "for r in results:\n",
    "    graph_budjets.append(int(r[0]))\n",
    "\n",
    "    equipment_data = [r[2], r[3], r[4], r[5], r[6]]\n",
    "\n",
    "    graph_types_sum.append(sum([1 for type in equipment_data if int(type) > 0]))\n",
    "    print(\"{:15d} | {:15.2f} | {:5d} | {:5d} | {:5d} | {:5d} | {:5d}\".format(int(r[0]), r[1], int(r[2]), int(r[3]), int(r[4]), int(r[5]), int(r[6])))\n",
    "\n",
    "\n",
    "plt.plot(graph_budjets, graph_types_sum)\n",
    "plt.xlabel(\"Выделенный бюджет (млн. руб)\")\n",
    "plt.ylabel(\"Количество типов оборудования\")\n",
    "plt.show()\n"
   ]
  },
  {
   "attachments": {},
   "cell_type": "markdown",
   "metadata": {},
   "source": [
    "## Задача 3\n",
    "\n",
    "Выпускаемая в 3-м цехе продукция, представляющая собой полуфабрикат определенного типоразмера постоянного сечения и длиной 300 см, разрезается на заготовки длиной 200 см, 150 см, 50 см в комплектности, определяемой соотношением 3:5:8.\n",
    "\n",
    "Требуется решить задачу оптимального раскроя в двух постановках и провести ее исследование:\n",
    "\n",
    "1. спланировать раскрой полуфабриката, при котором число комплектов заготовок будет наибольшим;\n",
    "2. спланировать раскрой полуфабриката при условии минимизации остатков и сравнить полученные результаты;\n",
    "3. средствами параметрического исследования правых частей выяснить необходимое приращение количества поступивших полуфабрикатов для увеличения числа комплектов заготовок на 1 (или на 10), причем провести указанное исследование для разных значений исходного количества полуфабрикатов (проверка линейности).\n"
   ]
  },
  {
   "cell_type": "code",
   "execution_count": 36,
   "metadata": {},
   "outputs": [
    {
     "name": "stdout",
     "output_type": "stream",
     "text": [
      "Задача 1 - Оптимальное количество комплектов заготовок:  48\n",
      "Задача 2 - Минимальные остатки:  0\n",
      "Задача 3 - При 10 полуфабрикатах, оптимальное количество комплектов заготовок: 480\n",
      "Задача 3 - При 20 полуфабрикатах, оптимальное количество комплектов заготовок: 960\n",
      "Задача 3 - При 30 полуфабрикатах, оптимальное количество комплектов заготовок: 1440\n"
     ]
    }
   ],
   "source": [
    "from pulp import *\n",
    "\n",
    "semi_finished_product_length = 300\n",
    "cut_lengths = [200, 150, 50]\n",
    "cut_ratios = [3, 5, 8]\n",
    "\n",
    "# Задача 1\n",
    "problem1 = LpProblem(\"Оптимальный_раскрой\", LpMaximize)\n",
    "cut_vars = LpVariable.dicts(\"Разрез\", cut_lengths, lowBound=0, cat=LpInteger)\n",
    "problem1 += lpSum([cut_vars[length] * ratio for length, ratio in zip(cut_lengths, cut_ratios)])\n",
    "problem1 += lpSum([length * cut_vars[length] for length in cut_lengths]) <= semi_finished_product_length\n",
    "problem1.solve()\n",
    "print(\"Задача 1 - Оптимальное количество комплектов заготовок: \", int(problem1.objective.value()))\n",
    "\n",
    "# Задача 2\n",
    "problem2 = LpProblem(\"Минимальные_остатки\", LpMinimize)\n",
    "waste_vars = LpVariable.dicts(\"Остаток\", cut_lengths, lowBound=0, cat=LpInteger)\n",
    "problem2 += lpSum([waste_vars[length] for length in cut_lengths])\n",
    "problem2 += lpSum([length * cut_vars[length] for length in cut_lengths]) - lpSum([length * waste_vars[length] for length in cut_lengths]) <= semi_finished_product_length\n",
    "problem2.solve()\n",
    "print(\"Задача 2 - Минимальные остатки: \", int(problem2.objective.value()))\n",
    "\n",
    "# Задача 3\n",
    "for num_semi_finished_products in [10, 20, 30]:\n",
    "    problem3 = LpProblem(\"Увеличение_заготовок\", LpMaximize)\n",
    "    cut_vars = LpVariable.dicts(\"Разрез\", cut_lengths, lowBound=0, cat=LpInteger)\n",
    "    problem3 += lpSum([cut_vars[length] * ratio for length, ratio in zip(cut_lengths, cut_ratios)])\n",
    "    problem3 += lpSum([length * cut_vars[length] for length in cut_lengths]) <= semi_finished_product_length * num_semi_finished_products\n",
    "    problem3.solve()\n",
    "    print(\"Задача 3 - При {} полуфабрикатах, оптимальное количество комплектов заготовок: {}\".format(num_semi_finished_products, int(problem3.objective.value())))\n"
   ]
  }
 ],
 "metadata": {
  "kernelspec": {
   "display_name": "Python 3",
   "language": "python",
   "name": "python3"
  },
  "language_info": {
   "codemirror_mode": {
    "name": "ipython",
    "version": 3
   },
   "file_extension": ".py",
   "mimetype": "text/x-python",
   "name": "python",
   "nbconvert_exporter": "python",
   "pygments_lexer": "ipython3",
   "version": "3.11.3"
  },
  "orig_nbformat": 4
 },
 "nbformat": 4,
 "nbformat_minor": 2
}
