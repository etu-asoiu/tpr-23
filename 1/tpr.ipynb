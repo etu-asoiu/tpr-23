{
 "cells": [
  {
   "attachments": {},
   "cell_type": "markdown",
   "metadata": {},
   "source": [
    "Задача:\n",
    "\n",
    "Нужно найти максимальную урожайность кормовых культур, в зависимости от количества внесенных удобрений.\n",
    "\n",
    "Условия:\n",
    "\n",
    "В сельхозобъединении выращиваются четыре вида кормовых культур.\n",
    "Урожайность культур зависит от количества внесенных удобрений.\n",
    "Урожай кормовых культур К-1, K-2, K-3 снимается два раза в год, урожай культуры К-4 снимается три раза в год.\n",
    "Для кормовых культур К-1, K-2, K-3 удобрения вносятся два раза в год, для культуры К-4 — три раза в год.\n",
    "Количество удобрений на один год составляет 239 единиц и распределяется пропорционально плану производства кормовых культур.\n",
    "Урожайность по различным культурам может быть аппроксимирована функцией F = a - b * exp**(-c * x), где x - количество внесенных удобрений, a, b, c - коэффициенты.\n",
    "Функция остатка за период подкормки имеет вид f(x) = d * x, где x - количество внесенных удобрений, d - коэффициент.\n",
    "\n",
    "Требуется:\n",
    "определить план внесения удобрений для получения максимальной урожайности кормовых культур.\n"
   ]
  },
  {
   "cell_type": "code",
   "execution_count": 1,
   "metadata": {},
   "outputs": [],
   "source": [
    "import numpy as np\n",
    "\n",
    "# Параметры функции урожайности\n",
    "a = [19, 15, 19, 21]\n",
    "b = [16.0, 8.4, 17.0, 14.9]\n",
    "c = [0.018, 0.017, 0.025, 0.056]\n",
    "d = [0.25, 0.3, 0.25, 0.3]\n",
    "\n",
    "# План производства кормовых культур\n",
    "P = [666, 527, 514, 393]\n",
    "\n",
    "# Удобрения на 1 год\n",
    "N = 239\n"
   ]
  },
  {
   "attachments": {},
   "cell_type": "markdown",
   "metadata": {},
   "source": [
    "Определить функцию для минимизации функции остатка:"
   ]
  },
  {
   "cell_type": "code",
   "execution_count": 2,
   "metadata": {},
   "outputs": [],
   "source": [
    "# Функция урожайности\n",
    "def yield_func(x):\n",
    "    total = 0\n",
    "    for i in range(4):\n",
    "        if i == 3:\n",
    "            total += yield_func_3(x[i], a[i], b[i], c[i]) * 3\n",
    "        else:\n",
    "            total += yield_func_3(x[i], a[i], b[i], c[i]) * 2\n",
    "    return total\n",
    "\n",
    "def yield_func_3(x, a, b, c):\n",
    "    return a - b * np.exp(-c * x)\n",
    "\n",
    "# Функция для минимизации функции остатка с ограничениями\n",
    "def residue_function(x):\n",
    "    return np.dot(d, x)\n"
   ]
  },
  {
   "attachments": {},
   "cell_type": "markdown",
   "metadata": {},
   "source": [
    "Найти количество удобрений для каждой культуры:\n",
    "НЕ ЗАПУСКАТЬ!"
   ]
  },
  {
   "cell_type": "code",
   "execution_count": 1,
   "metadata": {},
   "outputs": [
    {
     "ename": "NameError",
     "evalue": "name 'np' is not defined",
     "output_type": "error",
     "traceback": [
      "\u001B[1;31m---------------------------------------------------------------------------\u001B[0m",
      "\u001B[1;31mNameError\u001B[0m                                 Traceback (most recent call last)",
      "Cell \u001B[1;32mIn[1], line 1\u001B[0m\n\u001B[1;32m----> 1\u001B[0m best_yield \u001B[38;5;241m=\u001B[39m \u001B[38;5;241m-\u001B[39m\u001B[43mnp\u001B[49m\u001B[38;5;241m.\u001B[39minf\n\u001B[0;32m      2\u001B[0m \u001B[38;5;28;01mfor\u001B[39;00m x1 \u001B[38;5;129;01min\u001B[39;00m np\u001B[38;5;241m.\u001B[39marange(\u001B[38;5;241m0\u001B[39m, N\u001B[38;5;241m+\u001B[39m\u001B[38;5;241m1\u001B[39m, \u001B[38;5;241m10\u001B[39m):\n\u001B[0;32m      3\u001B[0m     \u001B[38;5;28;01mfor\u001B[39;00m x2 \u001B[38;5;129;01min\u001B[39;00m np\u001B[38;5;241m.\u001B[39marange(\u001B[38;5;241m0\u001B[39m, N\u001B[38;5;241m-\u001B[39mx1\u001B[38;5;241m+\u001B[39m\u001B[38;5;241m1\u001B[39m, \u001B[38;5;241m10\u001B[39m):\n",
      "\u001B[1;31mNameError\u001B[0m: name 'np' is not defined"
     ]
    }
   ],
   "source": [
    "\n",
    "best_yield = -np.inf\n",
    "for x1 in np.arange(0, N+1, 10):\n",
    "    for x2 in np.arange(0, N-x1+1, 10):\n",
    "        for x3 in np.arange(0, N-x1-x2+1, 10):\n",
    "            for i in range(10*N):\n",
    "                if i >= 10*N:\n",
    "                    break\n",
    "                x4 = N - x1 - x2 - x3\n",
    "                if x4 < 0:\n",
    "                    break\n",
    "                x = [x1, x2, x3, x4]\n",
    "                print('x: ', x)\n",
    "                if residue_function(x) <= N:\n",
    "                    total = yield_func(x)\n",
    "                    print('total: ', total)\n",
    "                    if total > best_yield:\n",
    "                        best_yield = total\n",
    "                        best_x = x\n",
    "                if i >= 10*N:\n",
    "                    break\n",
    "print(\"Оптимальное распределение удобрений:\", best_x)\n",
    "print(\"Максимальная урожайность:\", best_yield)\n"
   ]
  }
 ],
 "metadata": {
  "kernelspec": {
   "display_name": "Python 3",
   "language": "python",
   "name": "python3"
  },
  "language_info": {
   "codemirror_mode": {
    "name": "ipython",
    "version": 3
   },
   "file_extension": ".py",
   "mimetype": "text/x-python",
   "name": "python",
   "nbconvert_exporter": "python",
   "pygments_lexer": "ipython3",
   "version": "3.10.6"
  },
  "orig_nbformat": 4
 },
 "nbformat": 4,
 "nbformat_minor": 2
}
