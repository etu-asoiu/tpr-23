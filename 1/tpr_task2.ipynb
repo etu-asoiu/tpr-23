{
 "cells": [
  {
   "attachments": {},
   "cell_type": "markdown",
   "metadata": {},
   "source": [
    "Для посева этих культур используются три участка посевных площадей размером S1, S2, S3(га). Характеристики себестоимости (руб/т) выращивания тонны і-й культуры на з-м участке, а\n",
    "также площади участков представлены в табл. 2. \n",
    "\n",
    "В случае нехватки посевных площадей для выполнения плана по кормовым культурам (см.табл. 1), имеется возможность закупки необходимого количества культур по цене, приведенной в табл. 3. Требуется найти план посева (распределения культур по участкам), оптимальный с точки зрения минимизации себестоимости, и провести исследование решения:\n",
    " - выяснить размер свободных площадей на участках при точном выполнении планов;\n",
    " - выяснить возможности дополнительного посева культур с полным использованием площадей участков; ﻿﻿предположив, что существует возможность затопления участка 2 (ведущая к полной потере урожая с него), проанализировать себестоимость «оптимистичной» и «пессимистич-ной» стратегий распределения культур по участкам. Под «оптимистичной» стратегией здесь понимается такая, в соответствии с которой при посеве игнорируется возможность затопления, а под «пессимистичной» - такая, при которой посев на рискованный участок вообще не производится;\n",
    " - формализовать задачу минимизации ожидаемой себестоимости при известной вероятности затопления, построить график изменения ожидаемой себестоимости при вероятности затопления от 0 до 0.5.\n",
    "\n",
    "Решим задачу методом линейного программироввания"
   ]
  },
  {
   "cell_type": "code",
   "execution_count": 267,
   "metadata": {},
   "outputs": [],
   "source": [
    "import numpy as np\n",
    "from scipy.optimize import minimize\n",
    "import matplotlib.pyplot as plt\n",
    "from scipy.optimize import linprog\n",
    "\n",
    "\n",
    "plan = np.array([666, 527, 514, 393])\n",
    "cultures = np.array([\n",
    "    [19.0, 16.0, 0.018, 0.25],\n",
    "    [15.0, 8.4, 0.017, 0.3],\n",
    "    [19.0, 17.0, 0.025, 0.25],\n",
    "    [21.0, 14.9, 0.056, 0.3]\n",
    "])\n",
    "\n",
    "# Себестоимость выращивания культур на участках\n",
    "costs = np.array([\n",
    "    [28, 37, 61],\n",
    "    [45, 50, 32],\n",
    "    [46, 47, 44],\n",
    "    [54, 24, 36]\n",
    "])\n",
    "#Цена кормовой культуры\n",
    "prices = np.array([64, 53, 50, 57])\n",
    "\n",
    "areas = np.array([100, 150, 200])\n",
    "\n",
    "\n",
    "#функция минимизации себестоимости посева культур на участках\n",
    "def objective(x):\n",
    "    x = x.reshape(3, 4)\n",
    "    total_cost = np.sum(costs.T * x, axis=1) * areas\n",
    "    return np.sum(total_cost)\n",
    "\n",
    "\n",
    "x0 = np.ones(12)\n"
   ]
  },
  {
   "attachments": {},
   "cell_type": "markdown",
   "metadata": {},
   "source": [
    "Ограничения:"
   ]
  },
  {
   "cell_type": "code",
   "execution_count": 268,
   "metadata": {},
   "outputs": [],
   "source": [
    "bounds = [(0, None)] * 12\n",
    "areas_constraint = {'type': 'eq', 'fun': lambda x: np.sum(x.reshape(3, 4), axis=1) - areas}\n",
    "constraints = [areas_constraint]"
   ]
  },
  {
   "attachments": {},
   "cell_type": "markdown",
   "metadata": {},
   "source": [
    "Оптимальный план посева и минимальная себестоимость:"
   ]
  },
  {
   "cell_type": "code",
   "execution_count": 269,
   "metadata": {},
   "outputs": [
    {
     "name": "stdout",
     "output_type": "stream",
     "text": [
      "Оптимальный план:\n",
      " [[9.99999943e+01 6.56355903e-07 1.03153239e-06]\n",
      " [4.03550166e-06 1.45976327e-12 5.90969696e-06]\n",
      " [4.22132042e-06 1.49999991e+02 1.33223235e-05]\n",
      " [1.99999992e+02 5.62837501e-07 5.64442172e-12]]\n",
      "Минимальная себестоимость: 2100000.1695842654\n"
     ]
    }
   ],
   "source": [
    "result = minimize(objective, x0, method='SLSQP', bounds=bounds, constraints=constraints)\n",
    "optimal_plan = result.x.reshape(costs.shape)\n",
    "min_cost = result.fun\n",
    "\n",
    "print(\"Оптимальный план:\\n\", optimal_plan)\n",
    "print(\"Минимальная себестоимость:\", min_cost)"
   ]
  },
  {
   "attachments": {},
   "cell_type": "markdown",
   "metadata": {},
   "source": [
    "Размер свободных площадей на участках:"
   ]
  },
  {
   "cell_type": "code",
   "execution_count": 270,
   "metadata": {},
   "outputs": [
    {
     "name": "stdout",
     "output_type": "stream",
     "text": [
      "Размер свободных площадей на участках:  [0.00000000e+00 7.50462468e-06 1.99999980e+02]\n"
     ]
    }
   ],
   "source": [
    "free_areas = areas - np.sum(optimal_plan, axis=0)\n",
    "free_areas[free_areas < 0] = 0 # заменяем отрицательные значения на ноль\n",
    "print(\"Размер свободных площадей на участках: \", free_areas)"
   ]
  },
  {
   "attachments": {},
   "cell_type": "markdown",
   "metadata": {},
   "source": [
    "Возможности дополнительного посева культур:"
   ]
  },
  {
   "cell_type": "code",
   "execution_count": 271,
   "metadata": {},
   "outputs": [
    {
     "name": "stdout",
     "output_type": "stream",
     "text": [
      "Возможности дополнительного посева культур: \n",
      "[[0.00000000e+00 1.78681540e-07 4.76190428e+00]\n",
      " [0.00000000e+00 1.77274599e-07 4.72440897e+00]\n",
      " [0.00000000e+00 1.64334847e-07 4.37956160e+00]\n",
      " [0.00000000e+00 1.97490123e-07 5.26315736e+00]]\n"
     ]
    }
   ],
   "source": [
    "additional_planting = (free_areas.reshape(-1, 1) / costs.mean(axis=1).reshape(1, -1)).T\n",
    "print(\"Возможности дополнительного посева культур: \")\n",
    "print(additional_planting)"
   ]
  },
  {
   "attachments": {},
   "cell_type": "markdown",
   "metadata": {},
   "source": [
    "Оптимистичная стратегия"
   ]
  },
  {
   "cell_type": "code",
   "execution_count": 272,
   "metadata": {},
   "outputs": [
    {
     "name": "stdout",
     "output_type": "stream",
     "text": [
      "Себестоимость при оптимистичной стратегии: 143172615.9033761\n"
     ]
    }
   ],
   "source": [
    "optimistic_plan = plan.copy()\n",
    "optimistic_plan[1] += optimistic_plan[2]\n",
    "optimistic_plan[2] = 0\n",
    "optimistic_cost = np.sum(costs * optimistic_plan[:, np.newaxis], axis=1).astype('float64') * plan\n",
    "optimistic_cost += np.sum(additional_planting.reshape(-1, 1) * prices, axis=0)\n",
    "print(\"Себестоимость при оптимистичной стратегии:\", np.sum(optimistic_cost))\n"
   ]
  },
  {
   "attachments": {},
   "cell_type": "markdown",
   "metadata": {},
   "source": [
    "Пессимичтичная стратегия\n",
    "\n",
    "Для того, чтобы написать пессимистичную стратегию распределения культур по участкам, необходимо учесть возможность затопления участка 2, ведущей к полной потере урожая с него. Следовательно, пессимистичная стратегия будет заключаться в том, что на участок 2 не будет производиться посев."
   ]
  },
  {
   "cell_type": "code",
   "execution_count": 273,
   "metadata": {},
   "outputs": [
    {
     "name": "stdout",
     "output_type": "stream",
     "text": [
      "Себестоимость при пессимистичной стратегии: 108771109.90337609\n"
     ]
    }
   ],
   "source": [
    "pessimistic_plan = plan.copy()\n",
    "pessimistic_plan[2] = 0\n",
    "pessimistic_cost = np.sum(costs * pessimistic_plan[:, np.newaxis], axis=1).astype('float64') * plan\n",
    "pessimistic_cost += np.sum(additional_planting.reshape(-1, 1) * prices, axis=0)\n",
    "\n",
    "print(\"Себестоимость при пессимистичной стратегии:\", np.sum(pessimistic_cost))\n"
   ]
  }
 ],
 "metadata": {
  "kernelspec": {
   "display_name": "Python 3",
   "language": "python",
   "name": "python3"
  },
  "language_info": {
   "codemirror_mode": {
    "name": "ipython",
    "version": 3
   },
   "file_extension": ".py",
   "mimetype": "text/x-python",
   "name": "python",
   "nbconvert_exporter": "python",
   "pygments_lexer": "ipython3",
   "version": "3.10.6"
  },
  "orig_nbformat": 4
 },
 "nbformat": 4,
 "nbformat_minor": 2
}
